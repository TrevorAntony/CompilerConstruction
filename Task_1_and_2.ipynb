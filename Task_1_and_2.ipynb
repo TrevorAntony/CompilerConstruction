{
  "nbformat": 4,
  "nbformat_minor": 0,
  "metadata": {
    "colab": {
      "provenance": [],
      "authorship_tag": "ABX9TyMIJ/Z4+DBzDnPukyiMJ8/o",
      "include_colab_link": true
    },
    "kernelspec": {
      "name": "python3",
      "display_name": "Python 3"
    },
    "language_info": {
      "name": "python"
    }
  },
  "cells": [
    {
      "cell_type": "markdown",
      "metadata": {
        "id": "view-in-github",
        "colab_type": "text"
      },
      "source": [
        "<a href=\"https://colab.research.google.com/github/TrevorAntony/CompilerConstruction/blob/main/Task_1_and_2.ipynb\" target=\"_parent\"><img src=\"https://colab.research.google.com/assets/colab-badge.svg\" alt=\"Open In Colab\"/></a>"
      ]
    },
    {
      "cell_type": "markdown",
      "source": [
        "## GROUP MEMBERS"
      ],
      "metadata": {
        "id": "Jr0u-KG4-c8i"
      }
    },
    {
      "cell_type": "code",
      "execution_count": null,
      "metadata": {
        "id": "fr0vBjPA9iPR"
      },
      "outputs": [],
      "source": [
        "'''\n",
        "136243 Omondi Trevor Antony\n",
        "129197 Sally Keju\n",
        "136444 Ethan Kanja\n",
        "134653 Cynthia Musila\n",
        "129097 Mary Aladwa\n",
        "136614 Abraham Kanyi\n",
        "120406 Kirui Allan Kiprono\n",
        "'''"
      ]
    },
    {
      "cell_type": "markdown",
      "source": [
        "# TASK 1\n"
      ],
      "metadata": {
        "id": "yirqLmI9-Ye3"
      }
    },
    {
      "cell_type": "markdown",
      "source": [
        "## 1.\tWrite a program to identify programming lines (in the same programming language) as either comments or not."
      ],
      "metadata": {
        "id": "XWJzbGWP_Wj8"
      }
    },
    {
      "cell_type": "code",
      "source": [
        "def is_comment(line):\n",
        "    # Checks if a line is a comment or not\n",
        "    return line.strip().startswith('//') or line.strip().startswith('#') or line.strip().startswith('/*') and line.strip().endswith(\"*/\")\n",
        "\n",
        "# Example usage:\n",
        "program_code = [\n",
        "    \"int x = 1;\",\n",
        "    \"for i in range(10):\",\n",
        "    \"    print(i) \",\n",
        "    \"//This code outputs numbers from 0-9\",\n",
        "    \"/*\"\n",
        "    \"This is a \"\n",
        "    \"multi-line comment\"\n",
        "    \"*/\",\n",
        "]\n",
        "\n",
        "for line in program_code:\n",
        "    if is_comment(line):\n",
        "        print(f\"'{line}' :This line is a comment.\")\n",
        "    else:\n",
        "        print(f\"'{line}' :This line is not a comment.\")"
      ],
      "metadata": {
        "colab": {
          "base_uri": "https://localhost:8080/"
        },
        "id": "diQu4I-C-DZD",
        "outputId": "4497d240-3c0c-44d4-a677-80353c7faea7"
      },
      "execution_count": null,
      "outputs": [
        {
          "output_type": "stream",
          "name": "stdout",
          "text": [
            "'int x = 1;' :This line is not a comment.\n",
            "'for i in range(10):' :This line is not a comment.\n",
            "'    print(i) ' :This line is not a comment.\n",
            "'//This code outputs numbers from 0-9' :This line is a comment.\n",
            "'/*This is a multi-line comment*/' :This line is a comment.\n"
          ]
        }
      ]
    },
    {
      "cell_type": "markdown",
      "source": [
        "## i.\tDescribe the logic used."
      ],
      "metadata": {
        "id": "xR5jneM4AEse"
      }
    },
    {
      "cell_type": "markdown",
      "source": [
        "**We define the function is_comment, which checks whether a line begins with “//” or “#” (for single-line comments) or begins with “/*” and ends with “*/”  (for multi-line comments).We loop through the code and use this function to determine whether or not each line is a comment.**"
      ],
      "metadata": {
        "id": "glD940KTAWHN"
      }
    },
    {
      "cell_type": "markdown",
      "source": [
        "### ii.\tWas lexical analysis or/and syntax analysis concepts important in your logic? If yes, how?"
      ],
      "metadata": {
        "id": "SDCxvMWS-qyF"
      }
    },
    {
      "cell_type": "markdown",
      "source": [
        "**Lexical analysis is important in this logic because we examine the lexical structure of each line to see if it begins with comment indicators. Since we are not concerned with the grammatical correctness of the code, but rather with recognising comments, syntax analysis is not directly involved in this task.**"
      ],
      "metadata": {
        "id": "vwYmGYUp-_AU"
      }
    },
    {
      "cell_type": "markdown",
      "source": [
        "# TASK 2"
      ],
      "metadata": {
        "id": "f63gy4So_NyT"
      }
    },
    {
      "cell_type": "markdown",
      "source": [
        "## 2.\tWrite a program to test whether a given identifier is valid or not."
      ],
      "metadata": {
        "id": "RR5QQ9b5_Qck"
      }
    },
    {
      "cell_type": "code",
      "source": [
        "import keyword\n",
        "\n",
        "def is_valid_identifier(identifier):\n",
        "    if identifier.isidentifier() and not keyword.iskeyword(identifier):\n",
        "        return True\n",
        "    return False\n",
        "\n",
        "# Example usage\n",
        "identifier = input(\"Enter an identifier: \")\n",
        "if is_valid_identifier(identifier):\n",
        "    print(\"Valid identifier\")\n",
        "else:\n",
        "    print(\"Invalid identifier\")\n"
      ],
      "metadata": {
        "colab": {
          "base_uri": "https://localhost:8080/",
          "height": 87
        },
        "id": "1Cuynn7XAgiG",
        "outputId": "5a318ea5-f555-45dc-d9ee-3562229d21e0"
      },
      "execution_count": null,
      "outputs": [
        {
          "output_type": "stream",
          "name": "stdout",
          "text": [
            "Enter an identifier: if\n",
            "Invalid identifier\n"
          ]
        },
        {
          "output_type": "execute_result",
          "data": {
            "text/plain": [
              "'The pattern [a-zA-Z_][a-zA-Z0-9_]* \\nensures that the identifier starts with a letter or underscore, \\nfollowed by zero or more letters, digits, or underscores. \\nIf the given identifier matches this pattern, it is considered valid.'"
            ],
            "application/vnd.google.colaboratory.intrinsic+json": {
              "type": "string"
            }
          },
          "metadata": {},
          "execution_count": 3
        }
      ]
    },
    {
      "cell_type": "markdown",
      "source": [
        "**we utilize two built-in functions from the Python standard library: isidentifier() and iskeyword().**"
      ],
      "metadata": {
        "id": "XaaJoXNPCdH8"
      }
    },
    {
      "cell_type": "markdown",
      "source": [
        "isidentifier() function checks if a given string is a valid Python identifier. It returns True if the string is a valid identifier, and False otherwise.\n",
        "\n",
        "iskeyword() function checks if a given string is a Python keyword. It returns True if the string is a keyword, and False otherwise."
      ],
      "metadata": {
        "id": "RB58-hi7CnQb"
      }
    },
    {
      "cell_type": "markdown",
      "source": [
        "## Alternative solution"
      ],
      "metadata": {
        "id": "VkoEIs-mCT4z"
      }
    },
    {
      "cell_type": "code",
      "source": [
        "import re\n",
        "\n",
        "def is_valid_identifier(identifier):\n",
        "    pattern = r'^[a-zA-Z_][a-zA-Z0-9_]*$'\n",
        "    return re.match(pattern, identifier) is not None\n",
        "\n",
        "# Example usage\n",
        "identifier = input(\"Enter an identifier: \")\n",
        "if is_valid_identifier(identifier):\n",
        "    print(\"Valid identifier\")\n",
        "else:\n",
        "    print(\"Invalid identifier\")"
      ],
      "metadata": {
        "colab": {
          "base_uri": "https://localhost:8080/"
        },
        "id": "Akz8hBvDCYhZ",
        "outputId": "07efe0dc-44fd-4012-82bc-9d88f18c277a"
      },
      "execution_count": null,
      "outputs": [
        {
          "output_type": "stream",
          "name": "stdout",
          "text": [
            "Enter an identifier: if20\n",
            "Valid identifier\n"
          ]
        }
      ]
    },
    {
      "cell_type": "markdown",
      "source": [
        "is_valid_identifier function takes an identifier as input and uses a regular expression pattern to check if it matches the criteria for a valid identifier.\n",
        "\n",
        "The pattern ^[a-zA-Z_][a-zA-Z0-9_]*$ ensures that the identifier starts with a letter or underscore, followed by zero or more letters, digits, or underscores."
      ],
      "metadata": {
        "id": "uw0cjY_JC_jn"
      }
    },
    {
      "cell_type": "markdown",
      "source": [
        "### **i.\tFurther to this task: Tools like Lex and Flex helped users develop lexers to do tasks like the one given above. Using the Flex specification file, develop a simple lexer to validate identifiers.**"
      ],
      "metadata": {
        "id": "rG7orjxj_psP"
      }
    },
    {
      "cell_type": "markdown",
      "source": [
        "We define a regular expression pattern for valid identifiers using the identifier macro. When a valid identifier is encountered, it is printed as output. Other characters are ignored. This approach leverages Flex's ability to generate a lexer based on the provided specification."
      ],
      "metadata": {
        "id": "fck4UoDpAre1"
      }
    },
    {
      "cell_type": "markdown",
      "source": [
        "The program uses the {identifier} pattern to match valid identifiers and prints them as output using printf. The (.) pattern matches any other character, and the newline character \\n is ignored. This allows the lexer to skip over any characters that are not part of an identifier.\n",
        "The Flex specification file defines the patterns and corresponding actions to identify and validate identifiers.\n"
      ],
      "metadata": {
        "id": "r9B9-Lt5A1If"
      }
    },
    {
      "cell_type": "code",
      "source": [
        "#simple lexer to validate identifiers.\n",
        "\n",
        "\n",
        "%{\n",
        "#include <stdio.h>\n",
        "%}\n",
        "\n",
        "identifier [a-zA-Z_][a-zA-Z0-9_]*\n",
        "\n",
        "%%\n",
        "{identifier}    printf(\"Valid identifier: %s\\n\", yytext);\n",
        ".|\\n            /* Ignore other characters */\n",
        "%%\n",
        "\n",
        "int main() {\n",
        "    yylex();\n",
        "    return 0;\n",
        "}"
      ],
      "metadata": {
        "id": "1yZU2Z-rDQBp"
      },
      "execution_count": null,
      "outputs": []
    },
    {
      "cell_type": "code",
      "source": [
        "#Use the following commands to install Flex and compile the lexer\n",
        "sudo apt-get install flex\n",
        "flex lexer.l\n",
        "gcc lex.yy.c -o lexer -lfl\n",
        "\n",
        "#To run the lexer the following command is executed:\n",
        "./lexer"
      ],
      "metadata": {
        "id": "q9FDm7mSEY8p"
      },
      "execution_count": null,
      "outputs": []
    }
  ]
}